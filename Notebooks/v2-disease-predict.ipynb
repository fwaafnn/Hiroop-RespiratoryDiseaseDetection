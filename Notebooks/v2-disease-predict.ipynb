{
 "cells": [
  {
   "cell_type": "code",
   "execution_count": 54,
   "metadata": {},
   "outputs": [],
   "source": [
    "from os import listdir\n",
    "from os.path import isfile, join\n",
    "\n",
    "import librosa\n",
    "import librosa.display\n",
    "from tqdm import tqdm\n",
    "\n",
    "import matplotlib.pyplot as plt\n",
    "import numpy as np\n",
    "import pandas as pd\n",
    "\n",
    "import resampy\n",
    "import pydub\n",
    "import tensorflow\n",
    "from tensorflow.keras.models import Sequential\n",
    "from tensorflow.keras.layers import Flatten, Dense, Dropout, Conv1D, MaxPooling1D\n",
    "from keras.utils import to_categorical\n",
    "\n",
    "from sklearn.metrics import confusion_matrix, ConfusionMatrixDisplay, accuracy_score\n",
    "from sklearn.model_selection import train_test_split\n",
    "from sklearn.preprocessing import LabelEncoder, StandardScaler"
   ]
  },
  {
   "cell_type": "code",
   "execution_count": null,
   "metadata": {},
   "outputs": [
    {
     "name": "stdout",
     "output_type": "stream",
     "text": [
      "Collecting pydub\n",
      "  Downloading pydub-0.25.1-py2.py3-none-any.whl.metadata (1.4 kB)\n",
      "Downloading pydub-0.25.1-py2.py3-none-any.whl (32 kB)\n",
      "Installing collected packages: pydub\n",
      "Successfully installed pydub-0.25.1\n"
     ]
    }
   ],
   "source": [
    "# !pip install pydub"
   ]
  },
  {
   "cell_type": "code",
   "execution_count": null,
   "metadata": {},
   "outputs": [
    {
     "name": "stdout",
     "output_type": "stream",
     "text": [
      "Collecting resampy\n",
      "  Downloading resampy-0.4.3-py3-none-any.whl.metadata (3.0 kB)\n",
      "Requirement already satisfied: numpy>=1.17 in c:\\users\\afwaafini\\.conda\\envs\\hacktiv8-python\\lib\\site-packages (from resampy) (1.26.4)\n",
      "Requirement already satisfied: numba>=0.53 in c:\\users\\afwaafini\\.conda\\envs\\hacktiv8-python\\lib\\site-packages (from resampy) (0.59.1)\n",
      "Requirement already satisfied: llvmlite<0.43,>=0.42.0dev0 in c:\\users\\afwaafini\\.conda\\envs\\hacktiv8-python\\lib\\site-packages (from numba>=0.53->resampy) (0.42.0)\n",
      "Downloading resampy-0.4.3-py3-none-any.whl (3.1 MB)\n",
      "   ---------------------------------------- 0.0/3.1 MB ? eta -:--:--\n",
      "   ---------------------------------------- 0.0/3.1 MB ? eta -:--:--\n",
      "   ---------------------------------------- 0.0/3.1 MB ? eta -:--:--\n",
      "    --------------------------------------- 0.1/3.1 MB 328.2 kB/s eta 0:00:10\n",
      "   - -------------------------------------- 0.1/3.1 MB 476.3 kB/s eta 0:00:07\n",
      "   - -------------------------------------- 0.2/3.1 MB 612.6 kB/s eta 0:00:05\n",
      "   -- ------------------------------------- 0.2/3.1 MB 737.3 kB/s eta 0:00:04\n",
      "   -- ------------------------------------- 0.2/3.1 MB 737.3 kB/s eta 0:00:04\n",
      "   --- ------------------------------------ 0.3/3.1 MB 827.2 kB/s eta 0:00:04\n",
      "   ---- ----------------------------------- 0.4/3.1 MB 882.8 kB/s eta 0:00:04\n",
      "   ------ --------------------------------- 0.5/3.1 MB 1.0 MB/s eta 0:00:03\n",
      "   ------- -------------------------------- 0.6/3.1 MB 1.1 MB/s eta 0:00:03\n",
      "   ------- -------------------------------- 0.6/3.1 MB 1.1 MB/s eta 0:00:03\n",
      "   --------- ------------------------------ 0.7/3.1 MB 1.2 MB/s eta 0:00:02\n",
      "   ----------- ---------------------------- 0.8/3.1 MB 1.3 MB/s eta 0:00:02\n",
      "   ------------ --------------------------- 1.0/3.1 MB 1.3 MB/s eta 0:00:02\n",
      "   ------------- -------------------------- 1.0/3.1 MB 1.4 MB/s eta 0:00:02\n",
      "   --------------- ------------------------ 1.2/3.1 MB 1.5 MB/s eta 0:00:02\n",
      "   ----------------- ---------------------- 1.3/3.1 MB 1.6 MB/s eta 0:00:02\n",
      "   ------------------- -------------------- 1.5/3.1 MB 1.7 MB/s eta 0:00:01\n",
      "   --------------------- ------------------ 1.6/3.1 MB 1.7 MB/s eta 0:00:01\n",
      "   ---------------------- ----------------- 1.8/3.1 MB 1.8 MB/s eta 0:00:01\n",
      "   ------------------------ --------------- 1.9/3.1 MB 1.8 MB/s eta 0:00:01\n",
      "   ------------------------- -------------- 2.0/3.1 MB 1.9 MB/s eta 0:00:01\n",
      "   --------------------------- ------------ 2.1/3.1 MB 1.9 MB/s eta 0:00:01\n",
      "   ---------------------------- ----------- 2.2/3.1 MB 1.9 MB/s eta 0:00:01\n",
      "   ---------------------------- ----------- 2.2/3.1 MB 1.9 MB/s eta 0:00:01\n",
      "   ----------------------------- ---------- 2.3/3.1 MB 1.9 MB/s eta 0:00:01\n",
      "   -------------------------------- ------- 2.5/3.1 MB 1.9 MB/s eta 0:00:01\n",
      "   --------------------------------- ------ 2.6/3.1 MB 1.9 MB/s eta 0:00:01\n",
      "   ----------------------------------- ---- 2.7/3.1 MB 1.9 MB/s eta 0:00:01\n",
      "   ------------------------------------ --- 2.8/3.1 MB 2.0 MB/s eta 0:00:01\n",
      "   -------------------------------------- - 3.0/3.1 MB 2.0 MB/s eta 0:00:01\n",
      "   ---------------------------------------  3.1/3.1 MB 2.0 MB/s eta 0:00:01\n",
      "   ---------------------------------------- 3.1/3.1 MB 2.0 MB/s eta 0:00:00\n",
      "Installing collected packages: resampy\n",
      "Successfully installed resampy-0.4.3\n"
     ]
    }
   ],
   "source": [
    "# !pip install resampy"
   ]
  },
  {
   "cell_type": "code",
   "execution_count": 4,
   "metadata": {},
   "outputs": [],
   "source": [
    "path = \"../Respiratory_Sound_Database/audio_and_txt_files\"\n",
    "filenames = [f for f in listdir(path) if (isfile(join(path, f)) and f.endswith('.wav'))]"
   ]
  },
  {
   "cell_type": "code",
   "execution_count": 5,
   "metadata": {},
   "outputs": [],
   "source": [
    "# Patient ID corresponding to each file\n",
    "patient_id_in_file = []\n",
    "\n",
    "for name in filenames:\n",
    "    patient_id_in_file.append(int(name[:3]))\n",
    "    \n",
    "patient_id_in_file = np.array(patient_id_in_file)"
   ]
  },
  {
   "cell_type": "code",
   "execution_count": 6,
   "metadata": {},
   "outputs": [],
   "source": [
    "filepaths = [join(path, f) for f in filenames]"
   ]
  },
  {
   "cell_type": "code",
   "execution_count": 8,
   "metadata": {},
   "outputs": [],
   "source": [
    "p_diag = pd.read_csv(\"../Respiratory_Sound_Database/patient_diagnosis.csv\", header=None)"
   ]
  },
  {
   "cell_type": "code",
   "execution_count": 9,
   "metadata": {},
   "outputs": [
    {
     "name": "stdout",
     "output_type": "stream",
     "text": [
      "     0        1\n",
      "0  101     URTI\n",
      "1  102  Healthy\n",
      "2  103   Asthma\n",
      "3  104     COPD\n",
      "4  105     URTI\n",
      "(126, 2)\n"
     ]
    }
   ],
   "source": [
    "print(p_diag.head())\n",
    "print(p_diag.shape)"
   ]
  },
  {
   "cell_type": "code",
   "execution_count": 10,
   "metadata": {},
   "outputs": [],
   "source": [
    "# labels for audio files\n",
    "labels = np.array([p_diag[p_diag[0] == x][1].values[0] for x in patient_id_in_file])"
   ]
  },
  {
   "cell_type": "code",
   "execution_count": 76,
   "metadata": {},
   "outputs": [
    {
     "name": "stdout",
     "output_type": "stream",
     "text": [
      "['111_1b2_Tc_sc_Meditron.wav', '111_1b3_Tc_sc_Meditron.wav']\n"
     ]
    }
   ],
   "source": [
    "print(filenames[53:55])"
   ]
  },
  {
   "cell_type": "code",
   "execution_count": 77,
   "metadata": {},
   "outputs": [
    {
     "name": "stdout",
     "output_type": "stream",
     "text": [
      "['COPD' 'COPD' 'COPD' 'COPD' 'COPD' 'COPD']\n"
     ]
    }
   ],
   "source": [
    "print(labels[4:10])"
   ]
  },
  {
   "cell_type": "markdown",
   "metadata": {},
   "source": [
    "### Data Augmentation Functions"
   ]
  },
  {
   "cell_type": "code",
   "execution_count": 11,
   "metadata": {},
   "outputs": [],
   "source": [
    "# NOISE\n",
    "def add_noise(data):\n",
    "    noise_value = 0.015 * np.random.uniform() * np.amax(data)\n",
    "    data = data + noise_value * np.random.normal(size=data.shape[0])\n",
    "    return data"
   ]
  },
  {
   "cell_type": "code",
   "execution_count": 12,
   "metadata": {},
   "outputs": [],
   "source": [
    "# STRETCH\n",
    "def stretch_process(data, rate=0.8):\n",
    "    return librosa.effects.time_stretch(data, rate=0.8)"
   ]
  },
  {
   "cell_type": "code",
   "execution_count": 13,
   "metadata": {},
   "outputs": [],
   "source": [
    "# PITCH\n",
    "def pitch_process(data, sampling_rate, pitch_factor=0.7):\n",
    "    return librosa.effects.pitch_shift(data, sr=sampling_rate, n_steps=pitch_factor)"
   ]
  },
  {
   "cell_type": "markdown",
   "metadata": {},
   "source": [
    "### Data Process Functions"
   ]
  },
  {
   "cell_type": "code",
   "execution_count": 14,
   "metadata": {},
   "outputs": [],
   "source": [
    "# Extract Features\n",
    "def extract_process(data, sample_rate):\n",
    "    output_result = np.array([])\n",
    "    mean_zero = np.mean(librosa.feature.zero_crossing_rate(y=data).T, axis=0)\n",
    "    output_result = np.hstack((output_result, mean_zero))\n",
    "    stft_out = np.abs(librosa.stft(data))\n",
    "    chroma_stft = np.mean(librosa.feature.chroma_stft(S=stft_out, sr=sample_rate).T, axis=0)\n",
    "    output_result = np.hstack((output_result, chroma_stft))\n",
    "\n",
    "    mfcc_out = np.mean(librosa.feature.mfcc(y=data, sr=sample_rate, n_mfcc=40).T, axis=0)\n",
    "    output_result = np.hstack((output_result, mfcc_out))\n",
    "\n",
    "    root_mean_out = np.mean(librosa.feature.rms(y=data).T, axis=0)\n",
    "    output_result = np.hstack((output_result, root_mean_out))\n",
    "\n",
    "    mel_spectogram = np.mean(librosa.feature.melspectrogram(y=data, sr=sample_rate).T, axis=0)\n",
    "    output_result = np.hstack((output_result, mel_spectogram))\n",
    "\n",
    "    return output_result"
   ]
  },
  {
   "cell_type": "code",
   "execution_count": 15,
   "metadata": {},
   "outputs": [],
   "source": [
    "# Export Features\n",
    "def extract_features(file_name):\n",
    "    try:\n",
    "        audio, sample_rate = librosa.load(file_name, res_type='kaiser_fast', duration=42, offset=0.6)\n",
    "\n",
    "        # Extract features from the original audio data\n",
    "        extracted_features = extract_process(audio, sample_rate)\n",
    "        result = np.array(extracted_features)\n",
    "\n",
    "        # Add noise and extract features\n",
    "        noise_out = add_noise(audio)\n",
    "        output_2 = extract_process(noise_out, sample_rate)\n",
    "        result = np.vstack((result, output_2))\n",
    "\n",
    "        # Time-stretch and then pitch-shift before extracting features\n",
    "        new_out = stretch_process(audio,0.8)\n",
    "        stretch_pitch = pitch_process(new_out, sample_rate,pitch_factor=0.7)\n",
    "        output_3 = extract_process(stretch_pitch, sample_rate)\n",
    "        result = np.vstack((result, output_3))\n",
    "\n",
    "    except Exception as e:\n",
    "        print(\"Error encountered while parsing file: \", file_name)\n",
    "        print(\"Error Details:\", e)\n",
    "        return None\n",
    "\n",
    "    return result"
   ]
  },
  {
   "cell_type": "markdown",
   "metadata": {},
   "source": [
    "### Data Process and Engineering"
   ]
  },
  {
   "cell_type": "code",
   "execution_count": 17,
   "metadata": {},
   "outputs": [
    {
     "name": "stderr",
     "output_type": "stream",
     "text": [
      "Extracting features:   0%|          | 0/920 [00:00<?, ?it/s]"
     ]
    },
    {
     "name": "stderr",
     "output_type": "stream",
     "text": [
      "Extracting features:   0%|          | 3/920 [00:14<56:42,  3.71s/it]  c:\\Users\\AfwaAfini\\.conda\\envs\\hacktiv8-python\\Lib\\site-packages\\librosa\\core\\pitch.py:101: UserWarning: Trying to estimate tuning from empty frequency set.\n",
      "  return pitch_tuning(\n",
      "Extracting features: 100%|██████████| 920/920 [24:47<00:00,  1.62s/it]"
     ]
    },
    {
     "name": "stdout",
     "output_type": "stream",
     "text": [
      "Finished feature extraction from  920  files\n"
     ]
    },
    {
     "name": "stderr",
     "output_type": "stream",
     "text": [
      "\n"
     ]
    }
   ],
   "source": [
    "# Transformation and Exportation\n",
    "features = []\n",
    "\n",
    "# Iterate through each sound file and extract the features\n",
    "for file_name in tqdm(filepaths, desc='Extracting features'):\n",
    "    data = extract_features(file_name)\n",
    "    features.append(data)\n",
    "    \n",
    "print(\"Finished feature extraction from \", len(features), \" files\")\n",
    "features = np.array(features)"
   ]
  },
  {
   "cell_type": "markdown",
   "metadata": {},
   "source": [
    "____"
   ]
  },
  {
   "cell_type": "code",
   "execution_count": 22,
   "metadata": {},
   "outputs": [
    {
     "name": "stdout",
     "output_type": "stream",
     "text": [
      "Counter({'COPD': 793, 'Pneumonia': 37, 'Healthy': 35, 'URTI': 23, 'Bronchiectasis': 16, 'Bronchiolitis': 13, 'LRTI': 2, 'Asthma': 1})\n"
     ]
    }
   ],
   "source": [
    "from collections import Counter\n",
    "\n",
    "print(Counter(labels))"
   ]
  },
  {
   "cell_type": "code",
   "execution_count": 23,
   "metadata": {},
   "outputs": [],
   "source": [
    "# Delete the very rare diseases\n",
    "new_features = np.delete(features, np.where((labels == 'Asthma') | (labels == 'LRTI'))[0], axis=0)\n",
    "\n",
    "new_labels = np.delete(labels, np.where((labels == 'Asthma') | (labels == 'LRTI'))[0], axis=0)"
   ]
  },
  {
   "cell_type": "code",
   "execution_count": 24,
   "metadata": {},
   "outputs": [
    {
     "name": "stdout",
     "output_type": "stream",
     "text": [
      "[['Bronchiectasis' 'Bronchiolitis' 'COPD' 'Healthy' 'Pneumonia' 'URTI']\n",
      " ['16' '13' '793' '35' '37' '23']]\n"
     ]
    }
   ],
   "source": [
    "# new_labels class counts\n",
    "unique_elements, counts_elements = np.unique(new_labels, return_counts=True)\n",
    "print(np.asarray((unique_elements, counts_elements)))"
   ]
  },
  {
   "cell_type": "code",
   "execution_count": 21,
   "metadata": {},
   "outputs": [
    {
     "data": {
      "image/png": "[encoded data removed]",
      "text/plain": [
       "<Figure size 1200x500 with 1 Axes>"
      ]
     },
     "metadata": {},
     "output_type": "display_data"
    }
   ],
   "source": [
    "# Plotting\n",
    "plt.figure(figsize=(12, 5))\n",
    "plt.barh(unique_elements, counts_elements, align='center', alpha=0.5, color='blue')\n",
    "\n",
    "for i, v, in enumerate(counts_elements):\n",
    "    plt.text(v + 0.2, i, str(v), va='center')\n",
    "    \n",
    "plt.ylabel('Disease')\n",
    "plt.title('Disease Count in Sound Files (No Asthma or LRTI)')\n",
    "plt.tight_layout()  # Adjust layout to prevent clipping of labels\n",
    "plt.show()"
   ]
  },
  {
   "cell_type": "markdown",
   "metadata": {},
   "source": [
    "___"
   ]
  },
  {
   "cell_type": "code",
   "execution_count": 25,
   "metadata": {},
   "outputs": [],
   "source": [
    "# Flattened features array for preparing 1D CNN Model\n",
    "flattened_features = new_features.reshape(-1, 182)"
   ]
  },
  {
   "cell_type": "code",
   "execution_count": 64,
   "metadata": {},
   "outputs": [
    {
     "data": {
      "text/plain": [
       "920"
      ]
     },
     "execution_count": 64,
     "metadata": {},
     "output_type": "execute_result"
    }
   ],
   "source": [
    "len(filenames)"
   ]
  },
  {
   "cell_type": "code",
   "execution_count": 26,
   "metadata": {},
   "outputs": [],
   "source": [
    "augmented_labels = np.repeat(labels, 3)"
   ]
  },
  {
   "cell_type": "code",
   "execution_count": 27,
   "metadata": {},
   "outputs": [],
   "source": [
    "augmented_features = np.reshape(features, (-1, 182))\n",
    "\n",
    "# Flatten the feature sets\n",
    "mask = ~np.isin(augmented_labels, ['Asthma', 'LRTI'])\n",
    "augmented_features = augmented_features[mask]\n",
    "augmented_labels = augmented_labels[mask]"
   ]
  },
  {
   "cell_type": "code",
   "execution_count": 28,
   "metadata": {},
   "outputs": [
    {
     "data": {
      "text/plain": [
       "{'Bronchiectasis', 'Bronchiolitis', 'COPD', 'Healthy', 'Pneumonia', 'URTI'}"
      ]
     },
     "execution_count": 28,
     "metadata": {},
     "output_type": "execute_result"
    }
   ],
   "source": [
    "unique_values = set(augmented_labels)\n",
    "unique_values"
   ]
  },
  {
   "cell_type": "code",
   "execution_count": 29,
   "metadata": {},
   "outputs": [],
   "source": [
    "le = LabelEncoder()\n",
    "i_labels = le.fit_transform(augmented_labels)\n",
    "oh_labels = to_categorical(i_labels)"
   ]
  },
  {
   "cell_type": "code",
   "execution_count": 30,
   "metadata": {},
   "outputs": [
    {
     "data": {
      "text/plain": [
       "array(['URTI', 'URTI', 'URTI', ..., 'Pneumonia', 'Pneumonia', 'Pneumonia'],\n",
       "      dtype='<U14')"
      ]
     },
     "execution_count": 30,
     "metadata": {},
     "output_type": "execute_result"
    }
   ],
   "source": [
    "original_labels = le.inverse_transform(i_labels)\n",
    "original_labels"
   ]
  },
  {
   "cell_type": "code",
   "execution_count": 31,
   "metadata": {},
   "outputs": [
    {
     "data": {
      "text/plain": [
       "(2751, 182)"
      ]
     },
     "execution_count": 31,
     "metadata": {},
     "output_type": "execute_result"
    }
   ],
   "source": [
    "flattened_features.shape"
   ]
  },
  {
   "cell_type": "markdown",
   "metadata": {},
   "source": [
    "____"
   ]
  },
  {
   "cell_type": "code",
   "execution_count": 32,
   "metadata": {},
   "outputs": [],
   "source": [
    "# Train Test Split\n",
    "x_train, x_test, y_train, y_test = train_test_split(flattened_features, oh_labels, stratify=oh_labels, test_size=0.2, random_state=42)"
   ]
  },
  {
   "cell_type": "code",
   "execution_count": 33,
   "metadata": {},
   "outputs": [],
   "source": [
    "# Scaler & Transformation\n",
    "scaler_data = StandardScaler()"
   ]
  },
  {
   "cell_type": "code",
   "execution_count": 34,
   "metadata": {},
   "outputs": [
    {
     "name": "stdout",
     "output_type": "stream",
     "text": [
      "(2200, 182)\n",
      "(2200, 6)\n",
      "(551, 182)\n",
      "(551, 6)\n"
     ]
    }
   ],
   "source": [
    "print(x_train.shape)\n",
    "print(y_train.shape)\n",
    "print(x_test.shape)\n",
    "print(y_test.shape)"
   ]
  },
  {
   "cell_type": "code",
   "execution_count": 35,
   "metadata": {},
   "outputs": [],
   "source": [
    "x_train = scaler_data.fit_transform(x_train)\n",
    "x_test = scaler_data.transform(x_test)"
   ]
  },
  {
   "cell_type": "code",
   "execution_count": 36,
   "metadata": {},
   "outputs": [],
   "source": [
    "x_train = np.expand_dims(x_train, axis=2)\n",
    "x_test = np.expand_dims(x_test, axis=2)"
   ]
  },
  {
   "cell_type": "markdown",
   "metadata": {},
   "source": [
    "### Model"
   ]
  },
  {
   "cell_type": "code",
   "execution_count": 42,
   "metadata": {},
   "outputs": [
    {
     "name": "stderr",
     "output_type": "stream",
     "text": [
      "c:\\Users\\AfwaAfini\\.conda\\envs\\hacktiv8-python\\Lib\\site-packages\\keras\\src\\layers\\convolutional\\base_conv.py:107: UserWarning: Do not pass an `input_shape`/`input_dim` argument to a layer. When using Sequential models, prefer using an `Input(shape)` object as the first layer in the model instead.\n",
      "  super().__init__(activity_regularizer=activity_regularizer, **kwargs)\n"
     ]
    }
   ],
   "source": [
    "# Determine the number of unique classes\n",
    "num_labels = len(np.unique(new_labels))\n",
    "\n",
    "Model = Sequential([\n",
    "    Conv1D(256, kernel_size=3, strides=1, padding='same', activation='relu', input_shape=(x_train.shape[1], 1)),\n",
    "    MaxPooling1D(pool_size=2, strides = 2, padding = 'same'),\n",
    "    Conv1D(256, kernel_size=3, strides=1, padding='same', activation='relu'),\n",
    "    MaxPooling1D(pool_size=2, strides = 2, padding = 'same'),\n",
    "    Conv1D(128, kernel_size=3, strides=1, padding='same', activation='relu'),\n",
    "    MaxPooling1D(pool_size=2, strides = 2, padding = 'same'),\n",
    "    Conv1D(64, kernel_size=3, strides=1, padding='same', activation='relu'),\n",
    "    MaxPooling1D(pool_size=2, strides = 2, padding = 'same'),\n",
    "    Conv1D(32, kernel_size=3, strides=1, padding='same', activation='relu'),\n",
    "    MaxPooling1D(pool_size=2, strides = 2, padding = 'same'),\n",
    "    Dropout(0.4),\n",
    "    Flatten(),\n",
    "    Dense(units=32, activation='relu'),\n",
    "    Dropout(0.5),\n",
    "    Dense(units=num_labels, activation='softmax')\n",
    "])"
   ]
  },
  {
   "cell_type": "code",
   "execution_count": 43,
   "metadata": {},
   "outputs": [],
   "source": [
    "Model.compile(optimizer='adam', loss='categorical_crossentropy', metrics=['accuracy'])"
   ]
  },
  {
   "cell_type": "code",
   "execution_count": 44,
   "metadata": {},
   "outputs": [],
   "source": [
    "early_stop = tensorflow.keras.callbacks.EarlyStopping(monitor=\"loss\", patience=3, mode=\"min\")"
   ]
  },
  {
   "cell_type": "code",
   "execution_count": 45,
   "metadata": {},
   "outputs": [
    {
     "name": "stdout",
     "output_type": "stream",
     "text": [
      "Epoch 1/50\n",
      "\u001b[1m35/35\u001b[0m \u001b[32m━━━━━━━━━━━━━━━━━━━━\u001b[0m\u001b[37m\u001b[0m \u001b[1m11s\u001b[0m 169ms/step - accuracy: 0.6918 - loss: 1.1404 - val_accuracy: 0.8639 - val_loss: 0.5984\n",
      "Epoch 2/50\n",
      "\u001b[1m35/35\u001b[0m \u001b[32m━━━━━━━━━━━━━━━━━━━━\u001b[0m\u001b[37m\u001b[0m \u001b[1m5s\u001b[0m 149ms/step - accuracy: 0.8600 - loss: 0.7261 - val_accuracy: 0.8639 - val_loss: 0.5518\n",
      "Epoch 3/50\n",
      "\u001b[1m35/35\u001b[0m \u001b[32m━━━━━━━━━━━━━━━━━━━━\u001b[0m\u001b[37m\u001b[0m \u001b[1m7s\u001b[0m 189ms/step - accuracy: 0.8610 - loss: 0.6787 - val_accuracy: 0.8639 - val_loss: 0.5161\n",
      "Epoch 4/50\n",
      "\u001b[1m35/35\u001b[0m \u001b[32m━━━━━━━━━━━━━━━━━━━━\u001b[0m\u001b[37m\u001b[0m \u001b[1m10s\u001b[0m 169ms/step - accuracy: 0.8546 - loss: 0.6208 - val_accuracy: 0.8639 - val_loss: 0.4835\n",
      "Epoch 5/50\n",
      "\u001b[1m35/35\u001b[0m \u001b[32m━━━━━━━━━━━━━━━━━━━━\u001b[0m\u001b[37m\u001b[0m \u001b[1m7s\u001b[0m 186ms/step - accuracy: 0.8612 - loss: 0.5489 - val_accuracy: 0.8639 - val_loss: 0.4410\n",
      "Epoch 6/50\n",
      "\u001b[1m35/35\u001b[0m \u001b[32m━━━━━━━━━━━━━━━━━━━━\u001b[0m\u001b[37m\u001b[0m \u001b[1m12s\u001b[0m 239ms/step - accuracy: 0.8731 - loss: 0.4718 - val_accuracy: 0.8639 - val_loss: 0.4052\n",
      "Epoch 7/50\n",
      "\u001b[1m35/35\u001b[0m \u001b[32m━━━━━━━━━━━━━━━━━━━━\u001b[0m\u001b[37m\u001b[0m \u001b[1m6s\u001b[0m 168ms/step - accuracy: 0.8635 - loss: 0.4525 - val_accuracy: 0.8675 - val_loss: 0.3712\n",
      "Epoch 8/50\n",
      "\u001b[1m35/35\u001b[0m \u001b[32m━━━━━━━━━━━━━━━━━━━━\u001b[0m\u001b[37m\u001b[0m \u001b[1m9s\u001b[0m 122ms/step - accuracy: 0.8518 - loss: 0.4304 - val_accuracy: 0.8766 - val_loss: 0.3516\n",
      "Epoch 9/50\n",
      "\u001b[1m35/35\u001b[0m \u001b[32m━━━━━━━━━━━━━━━━━━━━\u001b[0m\u001b[37m\u001b[0m \u001b[1m5s\u001b[0m 156ms/step - accuracy: 0.8719 - loss: 0.3839 - val_accuracy: 0.8820 - val_loss: 0.3571\n",
      "Epoch 10/50\n",
      "\u001b[1m35/35\u001b[0m \u001b[32m━━━━━━━━━━━━━━━━━━━━\u001b[0m\u001b[37m\u001b[0m \u001b[1m6s\u001b[0m 178ms/step - accuracy: 0.8683 - loss: 0.3706 - val_accuracy: 0.8857 - val_loss: 0.3243\n",
      "Epoch 11/50\n",
      "\u001b[1m35/35\u001b[0m \u001b[32m━━━━━━━━━━━━━━━━━━━━\u001b[0m\u001b[37m\u001b[0m \u001b[1m6s\u001b[0m 158ms/step - accuracy: 0.8809 - loss: 0.3358 - val_accuracy: 0.8711 - val_loss: 0.3477\n",
      "Epoch 12/50\n",
      "\u001b[1m35/35\u001b[0m \u001b[32m━━━━━━━━━━━━━━━━━━━━\u001b[0m\u001b[37m\u001b[0m \u001b[1m5s\u001b[0m 153ms/step - accuracy: 0.8841 - loss: 0.3054 - val_accuracy: 0.8784 - val_loss: 0.3143\n",
      "Epoch 13/50\n",
      "\u001b[1m35/35\u001b[0m \u001b[32m━━━━━━━━━━━━━━━━━━━━\u001b[0m\u001b[37m\u001b[0m \u001b[1m6s\u001b[0m 165ms/step - accuracy: 0.8748 - loss: 0.3369 - val_accuracy: 0.8784 - val_loss: 0.3306\n",
      "Epoch 14/50\n",
      "\u001b[1m35/35\u001b[0m \u001b[32m━━━━━━━━━━━━━━━━━━━━\u001b[0m\u001b[37m\u001b[0m \u001b[1m6s\u001b[0m 182ms/step - accuracy: 0.8853 - loss: 0.2829 - val_accuracy: 0.8875 - val_loss: 0.3128\n",
      "Epoch 15/50\n",
      "\u001b[1m35/35\u001b[0m \u001b[32m━━━━━━━━━━━━━━━━━━━━\u001b[0m\u001b[37m\u001b[0m \u001b[1m10s\u001b[0m 170ms/step - accuracy: 0.8967 - loss: 0.2895 - val_accuracy: 0.8857 - val_loss: 0.3038\n",
      "Epoch 16/50\n",
      "\u001b[1m35/35\u001b[0m \u001b[32m━━━━━━━━━━━━━━━━━━━━\u001b[0m\u001b[37m\u001b[0m \u001b[1m5s\u001b[0m 153ms/step - accuracy: 0.8961 - loss: 0.2755 - val_accuracy: 0.8929 - val_loss: 0.2979\n",
      "Epoch 17/50\n",
      "\u001b[1m35/35\u001b[0m \u001b[32m━━━━━━━━━━━━━━━━━━━━\u001b[0m\u001b[37m\u001b[0m \u001b[1m10s\u001b[0m 131ms/step - accuracy: 0.8882 - loss: 0.2710 - val_accuracy: 0.8947 - val_loss: 0.3037\n",
      "Epoch 18/50\n",
      "\u001b[1m35/35\u001b[0m \u001b[32m━━━━━━━━━━━━━━━━━━━━\u001b[0m\u001b[37m\u001b[0m \u001b[1m5s\u001b[0m 141ms/step - accuracy: 0.8954 - loss: 0.2586 - val_accuracy: 0.8947 - val_loss: 0.2928\n",
      "Epoch 19/50\n",
      "\u001b[1m35/35\u001b[0m \u001b[32m━━━━━━━━━━━━━━━━━━━━\u001b[0m\u001b[37m\u001b[0m \u001b[1m5s\u001b[0m 147ms/step - accuracy: 0.9042 - loss: 0.2394 - val_accuracy: 0.8966 - val_loss: 0.2802\n",
      "Epoch 20/50\n",
      "\u001b[1m35/35\u001b[0m \u001b[32m━━━━━━━━━━━━━━━━━━━━\u001b[0m\u001b[37m\u001b[0m \u001b[1m5s\u001b[0m 150ms/step - accuracy: 0.8999 - loss: 0.2445 - val_accuracy: 0.9002 - val_loss: 0.2769\n",
      "Epoch 21/50\n",
      "\u001b[1m35/35\u001b[0m \u001b[32m━━━━━━━━━━━━━━━━━━━━\u001b[0m\u001b[37m\u001b[0m \u001b[1m9s\u001b[0m 250ms/step - accuracy: 0.9015 - loss: 0.2345 - val_accuracy: 0.8911 - val_loss: 0.2742\n",
      "Epoch 22/50\n",
      "\u001b[1m35/35\u001b[0m \u001b[32m━━━━━━━━━━━━━━━━━━━━\u001b[0m\u001b[37m\u001b[0m \u001b[1m6s\u001b[0m 178ms/step - accuracy: 0.8984 - loss: 0.2419 - val_accuracy: 0.8947 - val_loss: 0.2770\n",
      "Epoch 23/50\n",
      "\u001b[1m35/35\u001b[0m \u001b[32m━━━━━━━━━━━━━━━━━━━━\u001b[0m\u001b[37m\u001b[0m \u001b[1m5s\u001b[0m 143ms/step - accuracy: 0.9144 - loss: 0.2239 - val_accuracy: 0.8984 - val_loss: 0.2767\n",
      "Epoch 24/50\n",
      "\u001b[1m35/35\u001b[0m \u001b[32m━━━━━━━━━━━━━━━━━━━━\u001b[0m\u001b[37m\u001b[0m \u001b[1m6s\u001b[0m 166ms/step - accuracy: 0.9236 - loss: 0.2163 - val_accuracy: 0.9093 - val_loss: 0.2882\n",
      "Epoch 25/50\n",
      "\u001b[1m35/35\u001b[0m \u001b[32m━━━━━━━━━━━━━━━━━━━━\u001b[0m\u001b[37m\u001b[0m \u001b[1m6s\u001b[0m 161ms/step - accuracy: 0.9064 - loss: 0.2117 - val_accuracy: 0.9056 - val_loss: 0.2632\n",
      "Epoch 26/50\n",
      "\u001b[1m35/35\u001b[0m \u001b[32m━━━━━━━━━━━━━━━━━━━━\u001b[0m\u001b[37m\u001b[0m \u001b[1m9s\u001b[0m 124ms/step - accuracy: 0.9261 - loss: 0.1865 - val_accuracy: 0.9020 - val_loss: 0.2464\n",
      "Epoch 27/50\n",
      "\u001b[1m35/35\u001b[0m \u001b[32m━━━━━━━━━━━━━━━━━━━━\u001b[0m\u001b[37m\u001b[0m \u001b[1m5s\u001b[0m 140ms/step - accuracy: 0.9090 - loss: 0.2001 - val_accuracy: 0.9147 - val_loss: 0.2535\n",
      "Epoch 28/50\n",
      "\u001b[1m35/35\u001b[0m \u001b[32m━━━━━━━━━━━━━━━━━━━━\u001b[0m\u001b[37m\u001b[0m \u001b[1m6s\u001b[0m 168ms/step - accuracy: 0.9202 - loss: 0.1897 - val_accuracy: 0.9038 - val_loss: 0.2322\n",
      "Epoch 29/50\n",
      "\u001b[1m35/35\u001b[0m \u001b[32m━━━━━━━━━━━━━━━━━━━━\u001b[0m\u001b[37m\u001b[0m \u001b[1m13s\u001b[0m 236ms/step - accuracy: 0.9207 - loss: 0.1944 - val_accuracy: 0.9147 - val_loss: 0.2789\n",
      "Epoch 30/50\n",
      "\u001b[1m35/35\u001b[0m \u001b[32m━━━━━━━━━━━━━━━━━━━━\u001b[0m\u001b[37m\u001b[0m \u001b[1m6s\u001b[0m 166ms/step - accuracy: 0.9272 - loss: 0.2125 - val_accuracy: 0.9111 - val_loss: 0.2481\n",
      "Epoch 31/50\n",
      "\u001b[1m35/35\u001b[0m \u001b[32m━━━━━━━━━━━━━━━━━━━━\u001b[0m\u001b[37m\u001b[0m \u001b[1m10s\u001b[0m 161ms/step - accuracy: 0.9390 - loss: 0.1581 - val_accuracy: 0.9093 - val_loss: 0.2993\n",
      "Epoch 32/50\n",
      "\u001b[1m35/35\u001b[0m \u001b[32m━━━━━━━━━━━━━━━━━━━━\u001b[0m\u001b[37m\u001b[0m \u001b[1m7s\u001b[0m 190ms/step - accuracy: 0.9417 - loss: 0.1453 - val_accuracy: 0.9201 - val_loss: 0.2480\n",
      "Epoch 33/50\n",
      "\u001b[1m35/35\u001b[0m \u001b[32m━━━━━━━━━━━━━━━━━━━━\u001b[0m\u001b[37m\u001b[0m \u001b[1m6s\u001b[0m 156ms/step - accuracy: 0.9343 - loss: 0.1642 - val_accuracy: 0.9183 - val_loss: 0.2226\n",
      "Epoch 34/50\n",
      "\u001b[1m35/35\u001b[0m \u001b[32m━━━━━━━━━━━━━━━━━━━━\u001b[0m\u001b[37m\u001b[0m \u001b[1m10s\u001b[0m 131ms/step - accuracy: 0.9417 - loss: 0.1540 - val_accuracy: 0.9111 - val_loss: 0.2657\n",
      "Epoch 35/50\n",
      "\u001b[1m35/35\u001b[0m \u001b[32m━━━━━━━━━━━━━━━━━━━━\u001b[0m\u001b[37m\u001b[0m \u001b[1m5s\u001b[0m 140ms/step - accuracy: 0.9386 - loss: 0.1466 - val_accuracy: 0.9220 - val_loss: 0.2667\n"
     ]
    }
   ],
   "source": [
    "evConv1D_Model = Model.fit(x_train, y_train, batch_size=64, epochs=50, validation_data=(x_test, y_test), callbacks=[early_stop])"
   ]
  },
  {
   "cell_type": "code",
   "execution_count": 46,
   "metadata": {},
   "outputs": [
    {
     "name": "stdout",
     "output_type": "stream",
     "text": [
      "\u001b[1m18/18\u001b[0m \u001b[32m━━━━━━━━━━━━━━━━━━━━\u001b[0m\u001b[37m\u001b[0m \u001b[1m2s\u001b[0m 87ms/step - accuracy: 0.9211 - loss: 0.2978\n",
      "LOSS: 0.2667\n",
      "ACCURACY: 0.9220\n"
     ]
    }
   ],
   "source": [
    "Model_Results = Model.evaluate(x_test, y_test)\n",
    "print(\"LOSS: \" + \"%.4f\" % Model_Results[0])\n",
    "print(\"ACCURACY: \" + \"%.4f\" % Model_Results[1])"
   ]
  },
  {
   "cell_type": "code",
   "execution_count": 47,
   "metadata": {},
   "outputs": [
    {
     "data": {
      "image/png": "[encoded data removed]",
      "text/plain": [
       "<Figure size 1400x500 with 2 Axes>"
      ]
     },
     "metadata": {},
     "output_type": "display_data"
    }
   ],
   "source": [
    "# Plotting loss\n",
    "plt.figure(figsize=(14, 5))\n",
    "plt.subplot(1, 2, 1)\n",
    "plt.plot(evConv1D_Model.history['loss'], label='Training Loss')\n",
    "plt.plot(evConv1D_Model.history['val_loss'], label='Validation Loss')\n",
    "plt.legend()\n",
    "plt.title('Training and Validation Loss')\n",
    "\n",
    "# Plotting accuracy\n",
    "plt.subplot(1, 2, 2)\n",
    "plt.plot(evConv1D_Model.history['accuracy'], label='Training Accuracy')\n",
    "plt.plot(evConv1D_Model.history['val_accuracy'], label='Validation Accuracy')\n",
    "plt.legend()\n",
    "plt.title('Training and Validation Accuracy')\n",
    "\n",
    "plt.show()"
   ]
  },
  {
   "cell_type": "markdown",
   "metadata": {},
   "source": [
    "____"
   ]
  },
  {
   "cell_type": "code",
   "execution_count": 48,
   "metadata": {},
   "outputs": [
    {
     "name": "stdout",
     "output_type": "stream",
     "text": [
      "\u001b[1m18/18\u001b[0m \u001b[32m━━━━━━━━━━━━━━━━━━━━\u001b[0m\u001b[37m\u001b[0m \u001b[1m1s\u001b[0m 47ms/step\n"
     ]
    },
    {
     "data": {
      "image/png": "[encoded data removed]",
      "text/plain": [
       "<Figure size 640x480 with 2 Axes>"
      ]
     },
     "metadata": {},
     "output_type": "display_data"
    }
   ],
   "source": [
    "# Confusion Matrix\n",
    "# Getting the predictions\n",
    "y_pred = Model.predict(x_test)\n",
    "y_pred_classes = np.argmax(y_pred, axis=1)\n",
    "y_true = np.argmax(y_test, axis=1)\n",
    "\n",
    "confusion_mtx = confusion_matrix(y_true, y_pred_classes)\n",
    "cm_display = ConfusionMatrixDisplay(confusion_mtx, display_labels=le.classes_).plot()"
   ]
  },
  {
   "cell_type": "code",
   "execution_count": 49,
   "metadata": {},
   "outputs": [],
   "source": [
    "def predict(x_test):\n",
    "    y_pred = Model.predict(x_test)\n",
    "    y_pred_classes = np.argmax(y_pred, axis=1)\n",
    "    y_true = np.argmax(y_test, axis=1)\n",
    "    mapping = {\n",
    "        0: 'Bronchiectasis',\n",
    "        1: 'Brinchiolitis',\n",
    "        2: 'COPD',\n",
    "        3: 'Healthy',\n",
    "        4: 'Pneumonia',\n",
    "        5: 'URTI'\n",
    "    }\n",
    "    \n",
    "    # replace numerical labels with original labels\n",
    "    predictions = [mapping[label] for label in y_pred_classes]\n",
    "    accuracy = accuracy_score(y_true, y_pred_classes)\n",
    "    print(\"Test Accuracy:\", accuracy)\n",
    "    \n",
    "    return predictions"
   ]
  },
  {
   "cell_type": "code",
   "execution_count": 50,
   "metadata": {},
   "outputs": [
    {
     "name": "stdout",
     "output_type": "stream",
     "text": [
      "\u001b[1m18/18\u001b[0m \u001b[32m━━━━━━━━━━━━━━━━━━━━\u001b[0m\u001b[37m\u001b[0m \u001b[1m1s\u001b[0m 44ms/step\n",
      "Test Accuracy: 0.9219600725952813\n"
     ]
    },
    {
     "data": {
      "text/plain": [
       "['COPD',\n",
       " 'COPD',\n",
       " 'COPD',\n",
       " 'COPD',\n",
       " 'COPD',\n",
       " 'COPD',\n",
       " 'COPD',\n",
       " 'COPD',\n",
       " 'COPD',\n",
       " 'COPD',\n",
       " 'COPD',\n",
       " 'COPD',\n",
       " 'COPD',\n",
       " 'COPD',\n",
       " 'COPD',\n",
       " 'COPD',\n",
       " 'COPD',\n",
       " 'COPD',\n",
       " 'COPD',\n",
       " 'COPD',\n",
       " 'COPD',\n",
       " 'Pneumonia',\n",
       " 'COPD',\n",
       " 'COPD',\n",
       " 'COPD',\n",
       " 'COPD',\n",
       " 'COPD',\n",
       " 'COPD',\n",
       " 'COPD',\n",
       " 'COPD',\n",
       " 'COPD',\n",
       " 'COPD',\n",
       " 'Bronchiectasis',\n",
       " 'COPD',\n",
       " 'COPD',\n",
       " 'COPD',\n",
       " 'Healthy',\n",
       " 'COPD',\n",
       " 'COPD',\n",
       " 'COPD',\n",
       " 'COPD',\n",
       " 'COPD',\n",
       " 'COPD',\n",
       " 'COPD',\n",
       " 'COPD',\n",
       " 'Pneumonia',\n",
       " 'Healthy',\n",
       " 'COPD',\n",
       " 'COPD',\n",
       " 'COPD',\n",
       " 'Healthy',\n",
       " 'COPD',\n",
       " 'Healthy',\n",
       " 'COPD',\n",
       " 'Healthy',\n",
       " 'COPD',\n",
       " 'COPD',\n",
       " 'COPD',\n",
       " 'COPD',\n",
       " 'COPD',\n",
       " 'COPD',\n",
       " 'COPD',\n",
       " 'COPD',\n",
       " 'Healthy',\n",
       " 'COPD',\n",
       " 'COPD',\n",
       " 'COPD',\n",
       " 'COPD',\n",
       " 'COPD',\n",
       " 'COPD',\n",
       " 'COPD',\n",
       " 'COPD',\n",
       " 'COPD',\n",
       " 'COPD',\n",
       " 'Pneumonia',\n",
       " 'COPD',\n",
       " 'COPD',\n",
       " 'COPD',\n",
       " 'COPD',\n",
       " 'COPD',\n",
       " 'COPD',\n",
       " 'COPD',\n",
       " 'COPD',\n",
       " 'COPD',\n",
       " 'COPD',\n",
       " 'Pneumonia',\n",
       " 'COPD',\n",
       " 'COPD',\n",
       " 'COPD',\n",
       " 'COPD',\n",
       " 'Healthy',\n",
       " 'COPD',\n",
       " 'COPD',\n",
       " 'COPD',\n",
       " 'COPD',\n",
       " 'COPD',\n",
       " 'COPD',\n",
       " 'COPD',\n",
       " 'COPD',\n",
       " 'COPD',\n",
       " 'COPD',\n",
       " 'COPD',\n",
       " 'COPD',\n",
       " 'COPD',\n",
       " 'COPD',\n",
       " 'COPD',\n",
       " 'COPD',\n",
       " 'COPD',\n",
       " 'COPD',\n",
       " 'Pneumonia',\n",
       " 'COPD',\n",
       " 'COPD',\n",
       " 'COPD',\n",
       " 'COPD',\n",
       " 'COPD',\n",
       " 'COPD',\n",
       " 'COPD',\n",
       " 'COPD',\n",
       " 'Pneumonia',\n",
       " 'COPD',\n",
       " 'COPD',\n",
       " 'COPD',\n",
       " 'Healthy',\n",
       " 'COPD',\n",
       " 'COPD',\n",
       " 'COPD',\n",
       " 'COPD',\n",
       " 'COPD',\n",
       " 'COPD',\n",
       " 'Pneumonia',\n",
       " 'COPD',\n",
       " 'COPD',\n",
       " 'COPD',\n",
       " 'COPD',\n",
       " 'Brinchiolitis',\n",
       " 'COPD',\n",
       " 'COPD',\n",
       " 'COPD',\n",
       " 'COPD',\n",
       " 'Bronchiectasis',\n",
       " 'COPD',\n",
       " 'COPD',\n",
       " 'COPD',\n",
       " 'COPD',\n",
       " 'COPD',\n",
       " 'COPD',\n",
       " 'COPD',\n",
       " 'COPD',\n",
       " 'COPD',\n",
       " 'COPD',\n",
       " 'COPD',\n",
       " 'COPD',\n",
       " 'COPD',\n",
       " 'COPD',\n",
       " 'COPD',\n",
       " 'COPD',\n",
       " 'COPD',\n",
       " 'COPD',\n",
       " 'COPD',\n",
       " 'COPD',\n",
       " 'COPD',\n",
       " 'Healthy',\n",
       " 'COPD',\n",
       " 'COPD',\n",
       " 'COPD',\n",
       " 'COPD',\n",
       " 'COPD',\n",
       " 'COPD',\n",
       " 'Healthy',\n",
       " 'COPD',\n",
       " 'COPD',\n",
       " 'COPD',\n",
       " 'COPD',\n",
       " 'COPD',\n",
       " 'COPD',\n",
       " 'Pneumonia',\n",
       " 'COPD',\n",
       " 'COPD',\n",
       " 'COPD',\n",
       " 'COPD',\n",
       " 'COPD',\n",
       " 'COPD',\n",
       " 'COPD',\n",
       " 'COPD',\n",
       " 'COPD',\n",
       " 'Healthy',\n",
       " 'COPD',\n",
       " 'COPD',\n",
       " 'COPD',\n",
       " 'COPD',\n",
       " 'Pneumonia',\n",
       " 'COPD',\n",
       " 'COPD',\n",
       " 'Pneumonia',\n",
       " 'COPD',\n",
       " 'COPD',\n",
       " 'COPD',\n",
       " 'COPD',\n",
       " 'COPD',\n",
       " 'COPD',\n",
       " 'COPD',\n",
       " 'COPD',\n",
       " 'COPD',\n",
       " 'COPD',\n",
       " 'COPD',\n",
       " 'COPD',\n",
       " 'COPD',\n",
       " 'COPD',\n",
       " 'COPD',\n",
       " 'COPD',\n",
       " 'COPD',\n",
       " 'COPD',\n",
       " 'COPD',\n",
       " 'Healthy',\n",
       " 'COPD',\n",
       " 'Pneumonia',\n",
       " 'Bronchiectasis',\n",
       " 'COPD',\n",
       " 'COPD',\n",
       " 'COPD',\n",
       " 'Bronchiectasis',\n",
       " 'Bronchiectasis',\n",
       " 'COPD',\n",
       " 'COPD',\n",
       " 'COPD',\n",
       " 'COPD',\n",
       " 'COPD',\n",
       " 'COPD',\n",
       " 'COPD',\n",
       " 'COPD',\n",
       " 'COPD',\n",
       " 'COPD',\n",
       " 'Healthy',\n",
       " 'Pneumonia',\n",
       " 'COPD',\n",
       " 'COPD',\n",
       " 'Bronchiectasis',\n",
       " 'Healthy',\n",
       " 'COPD',\n",
       " 'COPD',\n",
       " 'COPD',\n",
       " 'COPD',\n",
       " 'COPD',\n",
       " 'COPD',\n",
       " 'COPD',\n",
       " 'COPD',\n",
       " 'COPD',\n",
       " 'COPD',\n",
       " 'Pneumonia',\n",
       " 'Healthy',\n",
       " 'COPD',\n",
       " 'COPD',\n",
       " 'COPD',\n",
       " 'COPD',\n",
       " 'Healthy',\n",
       " 'COPD',\n",
       " 'COPD',\n",
       " 'COPD',\n",
       " 'COPD',\n",
       " 'COPD',\n",
       " 'COPD',\n",
       " 'COPD',\n",
       " 'COPD',\n",
       " 'COPD',\n",
       " 'COPD',\n",
       " 'Healthy',\n",
       " 'COPD',\n",
       " 'COPD',\n",
       " 'COPD',\n",
       " 'Pneumonia',\n",
       " 'COPD',\n",
       " 'COPD',\n",
       " 'COPD',\n",
       " 'COPD',\n",
       " 'COPD',\n",
       " 'COPD',\n",
       " 'COPD',\n",
       " 'COPD',\n",
       " 'Healthy',\n",
       " 'COPD',\n",
       " 'COPD',\n",
       " 'COPD',\n",
       " 'COPD',\n",
       " 'COPD',\n",
       " 'COPD',\n",
       " 'COPD',\n",
       " 'COPD',\n",
       " 'COPD',\n",
       " 'COPD',\n",
       " 'COPD',\n",
       " 'COPD',\n",
       " 'COPD',\n",
       " 'Pneumonia',\n",
       " 'COPD',\n",
       " 'COPD',\n",
       " 'COPD',\n",
       " 'COPD',\n",
       " 'COPD',\n",
       " 'COPD',\n",
       " 'COPD',\n",
       " 'COPD',\n",
       " 'Healthy',\n",
       " 'COPD',\n",
       " 'COPD',\n",
       " 'COPD',\n",
       " 'COPD',\n",
       " 'COPD',\n",
       " 'COPD',\n",
       " 'COPD',\n",
       " 'COPD',\n",
       " 'COPD',\n",
       " 'COPD',\n",
       " 'Healthy',\n",
       " 'COPD',\n",
       " 'COPD',\n",
       " 'COPD',\n",
       " 'COPD',\n",
       " 'COPD',\n",
       " 'COPD',\n",
       " 'COPD',\n",
       " 'COPD',\n",
       " 'COPD',\n",
       " 'COPD',\n",
       " 'COPD',\n",
       " 'COPD',\n",
       " 'COPD',\n",
       " 'COPD',\n",
       " 'COPD',\n",
       " 'Brinchiolitis',\n",
       " 'COPD',\n",
       " 'COPD',\n",
       " 'COPD',\n",
       " 'COPD',\n",
       " 'Bronchiectasis',\n",
       " 'COPD',\n",
       " 'COPD',\n",
       " 'COPD',\n",
       " 'COPD',\n",
       " 'COPD',\n",
       " 'COPD',\n",
       " 'COPD',\n",
       " 'COPD',\n",
       " 'COPD',\n",
       " 'COPD',\n",
       " 'COPD',\n",
       " 'COPD',\n",
       " 'COPD',\n",
       " 'COPD',\n",
       " 'COPD',\n",
       " 'COPD',\n",
       " 'COPD',\n",
       " 'COPD',\n",
       " 'COPD',\n",
       " 'COPD',\n",
       " 'COPD',\n",
       " 'COPD',\n",
       " 'Healthy',\n",
       " 'COPD',\n",
       " 'COPD',\n",
       " 'COPD',\n",
       " 'Healthy',\n",
       " 'COPD',\n",
       " 'COPD',\n",
       " 'COPD',\n",
       " 'COPD',\n",
       " 'COPD',\n",
       " 'COPD',\n",
       " 'COPD',\n",
       " 'Pneumonia',\n",
       " 'COPD',\n",
       " 'COPD',\n",
       " 'Bronchiectasis',\n",
       " 'Bronchiectasis',\n",
       " 'COPD',\n",
       " 'COPD',\n",
       " 'COPD',\n",
       " 'COPD',\n",
       " 'COPD',\n",
       " 'COPD',\n",
       " 'COPD',\n",
       " 'COPD',\n",
       " 'COPD',\n",
       " 'COPD',\n",
       " 'COPD',\n",
       " 'COPD',\n",
       " 'COPD',\n",
       " 'COPD',\n",
       " 'COPD',\n",
       " 'COPD',\n",
       " 'COPD',\n",
       " 'COPD',\n",
       " 'COPD',\n",
       " 'COPD',\n",
       " 'COPD',\n",
       " 'COPD',\n",
       " 'COPD',\n",
       " 'COPD',\n",
       " 'COPD',\n",
       " 'COPD',\n",
       " 'COPD',\n",
       " 'COPD',\n",
       " 'Bronchiectasis',\n",
       " 'COPD',\n",
       " 'COPD',\n",
       " 'COPD',\n",
       " 'COPD',\n",
       " 'COPD',\n",
       " 'COPD',\n",
       " 'COPD',\n",
       " 'Healthy',\n",
       " 'Pneumonia',\n",
       " 'Pneumonia',\n",
       " 'COPD',\n",
       " 'Bronchiectasis',\n",
       " 'COPD',\n",
       " 'Healthy',\n",
       " 'COPD',\n",
       " 'COPD',\n",
       " 'COPD',\n",
       " 'COPD',\n",
       " 'COPD',\n",
       " 'COPD',\n",
       " 'COPD',\n",
       " 'COPD',\n",
       " 'COPD',\n",
       " 'COPD',\n",
       " 'COPD',\n",
       " 'COPD',\n",
       " 'COPD',\n",
       " 'COPD',\n",
       " 'COPD',\n",
       " 'COPD',\n",
       " 'COPD',\n",
       " 'COPD',\n",
       " 'COPD',\n",
       " 'Healthy',\n",
       " 'COPD',\n",
       " 'COPD',\n",
       " 'COPD',\n",
       " 'COPD',\n",
       " 'COPD',\n",
       " 'COPD',\n",
       " 'COPD',\n",
       " 'COPD',\n",
       " 'COPD',\n",
       " 'COPD',\n",
       " 'COPD',\n",
       " 'COPD',\n",
       " 'COPD',\n",
       " 'Healthy',\n",
       " 'COPD',\n",
       " 'COPD',\n",
       " 'COPD',\n",
       " 'COPD',\n",
       " 'COPD',\n",
       " 'COPD',\n",
       " 'Bronchiectasis',\n",
       " 'COPD',\n",
       " 'COPD',\n",
       " 'COPD',\n",
       " 'COPD',\n",
       " 'COPD',\n",
       " 'COPD',\n",
       " 'COPD',\n",
       " 'COPD',\n",
       " 'COPD',\n",
       " 'COPD',\n",
       " 'COPD',\n",
       " 'Healthy',\n",
       " 'COPD',\n",
       " 'COPD',\n",
       " 'COPD',\n",
       " 'COPD',\n",
       " 'Healthy',\n",
       " 'COPD',\n",
       " 'COPD',\n",
       " 'COPD',\n",
       " 'COPD',\n",
       " 'COPD',\n",
       " 'COPD',\n",
       " 'COPD',\n",
       " 'COPD',\n",
       " 'COPD',\n",
       " 'COPD',\n",
       " 'COPD',\n",
       " 'COPD',\n",
       " 'COPD',\n",
       " 'COPD',\n",
       " 'COPD',\n",
       " 'COPD',\n",
       " 'COPD',\n",
       " 'Healthy',\n",
       " 'COPD',\n",
       " 'COPD',\n",
       " 'COPD',\n",
       " 'COPD',\n",
       " 'COPD',\n",
       " 'COPD',\n",
       " 'COPD',\n",
       " 'COPD',\n",
       " 'COPD',\n",
       " 'COPD',\n",
       " 'COPD',\n",
       " 'COPD',\n",
       " 'Pneumonia',\n",
       " 'COPD',\n",
       " 'Pneumonia',\n",
       " 'COPD',\n",
       " 'COPD',\n",
       " 'COPD',\n",
       " 'Healthy',\n",
       " 'COPD',\n",
       " 'COPD',\n",
       " 'COPD',\n",
       " 'COPD',\n",
       " 'COPD',\n",
       " 'COPD',\n",
       " 'COPD',\n",
       " 'COPD',\n",
       " 'COPD',\n",
       " 'COPD',\n",
       " 'COPD',\n",
       " 'COPD',\n",
       " 'COPD',\n",
       " 'COPD',\n",
       " 'COPD',\n",
       " 'COPD',\n",
       " 'COPD',\n",
       " 'COPD',\n",
       " 'COPD',\n",
       " 'COPD',\n",
       " 'COPD',\n",
       " 'COPD',\n",
       " 'COPD',\n",
       " 'COPD',\n",
       " 'COPD',\n",
       " 'COPD',\n",
       " 'COPD',\n",
       " 'COPD',\n",
       " 'COPD',\n",
       " 'COPD',\n",
       " 'COPD',\n",
       " 'COPD',\n",
       " 'COPD',\n",
       " 'COPD',\n",
       " 'COPD',\n",
       " 'Healthy',\n",
       " 'COPD',\n",
       " 'COPD',\n",
       " 'COPD',\n",
       " 'COPD']"
      ]
     },
     "execution_count": 50,
     "metadata": {},
     "output_type": "execute_result"
    }
   ],
   "source": [
    "predict(x_test)"
   ]
  },
  {
   "cell_type": "code",
   "execution_count": 51,
   "metadata": {},
   "outputs": [],
   "source": [
    "Model.save('v2-disease-predict.keras')"
   ]
  }
 ],
 "metadata": {
  "kernelspec": {
   "display_name": "hacktiv8-python",
   "language": "python",
   "name": "python3"
  },
  "language_info": {
   "codemirror_mode": {
    "name": "ipython",
    "version": 3
   },
   "file_extension": ".py",
   "mimetype": "text/x-python",
   "name": "python",
   "nbconvert_exporter": "python",
   "pygments_lexer": "ipython3",
   "version": "3.11.5"
  }
 },
 "nbformat": 4,
 "nbformat_minor": 2
}
